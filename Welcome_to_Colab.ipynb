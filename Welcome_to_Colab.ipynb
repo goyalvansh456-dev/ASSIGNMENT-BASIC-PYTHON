{
  "cells": [
    {
      "cell_type": "markdown",
      "source": [
        "**Python Basics Questions**"
      ],
      "metadata": {
        "id": "O1mNknA2Q8r6"
      }
    },
    {
      "cell_type": "markdown",
      "source": [
        "QUES 1--> What is Python, and why is it popular?  \n",
        "ANS--> PYHTON IS A PROGRAMMING LANGUAGE.\n",
        "IT IS EASY TO LEARN AND IT HAS A EASY SYNTAX AND WIDELY USED IN DIFFERNT INDUSTRIES THAT IS WHY IT IS VERY POPULAR OVER THE WORLD."
      ],
      "metadata": {
        "id": "ToDJdgC_RFcs"
      }
    },
    {
      "cell_type": "markdown",
      "source": [
        "QUES2--> What is an interpreter in Python ?   \n",
        "ANS-->  AN INTERPRETER LANGUAGE IS THE ONE THAT TRANSLATES THE WHOLE TEXT LINE  BY LINE UNLIKE THE COMPILER LANGUAGE THAT CONVERTS WHOLE TEXT AT ONCE."
      ],
      "metadata": {
        "id": "xKlemvp7RNYI"
      }
    },
    {
      "cell_type": "markdown",
      "source": [
        "QUES3--> What are pre-defined keywords in Python ?  \n",
        "ANS-->  PREDEFINED KEYWORD ARE VARIABLES(THAT KEEP VALUES AS CONTAINERS),\n",
        "NUMBERS,BOOLEAN,CHRACTERS(STRING IN PYTHON),NONE TYPE."
      ],
      "metadata": {
        "id": "-wC-p3KIRPdt"
      }
    },
    {
      "cell_type": "markdown",
      "source": [
        "QUES4-->  Can keywords be used as variable names ?  \n",
        "ANS--> NO KEYWORDS CANNOT BE USED IN VARIABLE NAME, A VARIABLE MUST START WITH LETTERS (ALPHABETS) OR AN UNDERSCORED( _ )."
      ],
      "metadata": {
        "id": "2fZ2dUYmRStb"
      }
    },
    {
      "cell_type": "markdown",
      "source": [
        "QUES5--> What is mutability in Python  \n",
        "ANS--> VARIABLES ARE STORED IN CONTAINERS WHOSE VALUE CAN BE CHANGED ARE CALLED MUTABLE."
      ],
      "metadata": {
        "id": "bKG5-_PvRWBG"
      }
    },
    {
      "cell_type": "markdown",
      "source": [
        "QUES6-->Why are lists mutable, but tuples are immutable ?  \n",
        "ANS-->  LISTS ARE REPRESENTED IN [] AND ITS VALUE CAN CHANGE AND SO ARE MUTABLE BUT ONCE TUPLES ARE CREATED ITS VALUE CANT BE CHANGED"
      ],
      "metadata": {
        "id": "yVqSxxhERYy8"
      }
    },
    {
      "cell_type": "markdown",
      "source": [
        "QUES7-->What is the difference between “==” and “is” operators in Python  \n",
        "ANS --> \"==\" IS USED TO COMPARE VALUE AND CHECK WEATHER BOTH HAVE EQUAL VALUE OR NOT.\n",
        "\"IS\" OPERATOR IS USED TO CHEKC WEATHER BOTH HOLD SAME VALUE IN MEMORY OR NOT."
      ],
      "metadata": {
        "id": "j2pZNhlMRfHz"
      }
    },
    {
      "cell_type": "markdown",
      "source": [
        "QUES8--> What are logical operators in Python  \n",
        "ANS--> LOGICAL OPERATOR ARE \"AND\" AND \"OR\".\n",
        "\n",
        "T and T = T  \n",
        "F and T = F    \n",
        "T and F = F    \n",
        "F and F = F  \n",
        "\n",
        "T OR T = T  \n",
        "T OR F = T  \n",
        "F OR T = T  \n",
        "F OR F = F"
      ],
      "metadata": {
        "id": "W7MvUWm5RhGU"
      }
    },
    {
      "cell_type": "markdown",
      "source": [
        "QUES9--> What is type casting in Python  \n",
        "ANS--> TYPE CASTING IS PROCESS BY WHICH WE CAN CONVERT ONE DATA TYPE TO OTHER\n",
        "eg- TO CONVERT STRING TO INTEGER TYPE WE ADD INT"
      ],
      "metadata": {
        "id": "ppoyaN3iRpGK"
      }
    },
    {
      "cell_type": "markdown",
      "source": [
        "QUES10-->  What is the difference between implicit and explicit type casting  \n",
        "ANS-->IMPLICIT TYPECASTING = LANGUAGE THAT PYTHON UNDERSTANDS  \n",
        "EXPLICIT TYPECASTING = onvert data type using inbuilt functionS LIKE STRING, INT, FLOAT etc.\n"
      ],
      "metadata": {
        "id": "IvukKJsPRvHx"
      }
    },
    {
      "cell_type": "markdown",
      "source": [
        "QUES11--> What is the purpose of conditional statements in Python  \n",
        "ans-->  conditional statement are used to ask choice of coders and do coding on basis of probability or choice."
      ],
      "metadata": {
        "id": "nWB4kAFqRzY4"
      }
    },
    {
      "cell_type": "markdown",
      "source": [
        "QUES12-->  How does the elif statement work  \n",
        "ANS-->  it is used to create multiple choices for the coders. it creates another choice other than if and else condition."
      ],
      "metadata": {
        "id": "mdY-cr5wR0tt"
      }
    },
    {
      "cell_type": "markdown",
      "source": [
        "QUES13--> What is the difference between for and while loops  \n",
        "ANS--> while loop excutes until the condition is satisfied   \n",
        "       for loop executes for a sequence of chracters"
      ],
      "metadata": {
        "id": "CH0-dGxHR3UW"
      }
    },
    {
      "cell_type": "markdown",
      "source": [
        "QUES14-->  Describe a scenario where a while loop is more suitable than a for loop  \n",
        "ANS--> WHILE LOOP IS BETTER THAN FOR LOOP WHERE IRITATION OF DATA IS DONE.  \n",
        "IN WHILE LOOP WE CAN REACH  THE END OF PROGRME WHILE FOR LOOP IS NOT USED THERE."
      ],
      "metadata": {
        "id": "pqjStHUOR9PL"
      }
    },
    {
      "cell_type": "markdown",
      "source": [
        "**PRACTICAL QUES**"
      ],
      "metadata": {
        "id": "rWflgkWbR_pE"
      }
    },
    {
      "cell_type": "markdown",
      "source": [
        "QUES1-->Write a Python program to print \"Hello, World!"
      ],
      "metadata": {
        "id": "96gCnZn_SfHI"
      }
    },
    {
      "cell_type": "code",
      "source": [
        "print( \"Hello, World!\")"
      ],
      "metadata": {
        "colab": {
          "base_uri": "https://localhost:8080/"
        },
        "id": "WRtz5cItSjxO",
        "outputId": "5590ee7f-4363-4a1e-c6aa-06176e888dcf"
      },
      "execution_count": 2,
      "outputs": [
        {
          "output_type": "stream",
          "name": "stdout",
          "text": [
            "Hello, World!\n"
          ]
        }
      ]
    },
    {
      "cell_type": "markdown",
      "source": [
        "QUES2-->Write a Python program that displays your name and age?"
      ],
      "metadata": {
        "id": "iXSY6celTj7f"
      }
    },
    {
      "cell_type": "code",
      "source": [
        "name=input(\"enter your name here : \")\n",
        "age=int(input(\"enter your age here: \"))\n",
        "print(\"your name is {} and age is {}\".format (name,age))"
      ],
      "metadata": {
        "colab": {
          "base_uri": "https://localhost:8080/"
        },
        "id": "krTjHA_GToxW",
        "outputId": "d9f52bc2-c9bb-4b9c-c97a-ee59bd9f8a96"
      },
      "execution_count": 7,
      "outputs": [
        {
          "output_type": "stream",
          "name": "stdout",
          "text": [
            "enter your name here : vansh\n",
            "enter your age here: 18\n",
            "your name is vansh and age is 18\n"
          ]
        }
      ]
    },
    {
      "cell_type": "markdown",
      "source": [
        "QUES3-->Write code to print all the pre-defined keywords in Python using the keyword library"
      ],
      "metadata": {
        "id": "ByrAEVmYU7mn"
      }
    },
    {
      "cell_type": "code",
      "source": [
        "import keyword\n",
        "\n",
        "print(keyword.kwlist)"
      ],
      "metadata": {
        "colab": {
          "base_uri": "https://localhost:8080/"
        },
        "id": "EUph5F5PU_qv",
        "outputId": "c50460cf-61d5-4983-cd66-651e450032cc"
      },
      "execution_count": 9,
      "outputs": [
        {
          "output_type": "stream",
          "name": "stdout",
          "text": [
            "['False', 'None', 'True', 'and', 'as', 'assert', 'async', 'await', 'break', 'class', 'continue', 'def', 'del', 'elif', 'else', 'except', 'finally', 'for', 'from', 'global', 'if', 'import', 'in', 'is', 'lambda', 'nonlocal', 'not', 'or', 'pass', 'raise', 'return', 'try', 'while', 'with', 'yield']\n"
          ]
        }
      ]
    },
    {
      "cell_type": "markdown",
      "source": [
        "Ques4-->Write a program that checks if a given word is a Python keyword."
      ],
      "metadata": {
        "id": "gMqcZOwHWAg9"
      }
    },
    {
      "cell_type": "code",
      "source": [],
      "metadata": {
        "id": "mnj6BKfmWGdH"
      },
      "execution_count": null,
      "outputs": []
    },
    {
      "cell_type": "markdown",
      "source": [
        "Ques5-->Create a list and tuple in Python, and demonstrate how attempting to change an element works differently\n",
        "for each."
      ],
      "metadata": {
        "id": "-H9GlBX9WYL-"
      }
    },
    {
      "cell_type": "code",
      "source": [
        "# demostraing mutability in list\n",
        "my_list=[1 , 2, 3 , 4 , \"Ajay\"]\n",
        "my_list[3]=\"binod\"\n",
        "my_list"
      ],
      "metadata": {
        "id": "cKz5RW4DXRtG",
        "outputId": "9b9aa15c-27a8-4299-bd0a-c124735a960c",
        "colab": {
          "base_uri": "https://localhost:8080/"
        }
      },
      "execution_count": 17,
      "outputs": [
        {
          "output_type": "execute_result",
          "data": {
            "text/plain": [
              "[1, 2, 3, 'binod', 'Ajay']"
            ]
          },
          "metadata": {},
          "execution_count": 17
        }
      ]
    },
    {
      "cell_type": "code",
      "source": [
        "#demostrating mutability in tuples\n",
        "my_list=(1 , 2, 3 , 4 , \"Ajay\")\n",
        "my_list(3)=\"binod\"\n",
        "my_list\n"
      ],
      "metadata": {
        "id": "0K5KZ5HgXkRA",
        "outputId": "91d4f06c-5c8a-4ca0-b50c-248ac2f975c5",
        "colab": {
          "base_uri": "https://localhost:8080/",
          "height": 106
        }
      },
      "execution_count": 18,
      "outputs": [
        {
          "output_type": "error",
          "ename": "SyntaxError",
          "evalue": "cannot assign to function call here. Maybe you meant '==' instead of '='? (ipython-input-2837465102.py, line 3)",
          "traceback": [
            "\u001b[0;36m  File \u001b[0;32m\"/tmp/ipython-input-2837465102.py\"\u001b[0;36m, line \u001b[0;32m3\u001b[0m\n\u001b[0;31m    my_list(3)=\"binod\"\u001b[0m\n\u001b[0m    ^\u001b[0m\n\u001b[0;31mSyntaxError\u001b[0m\u001b[0;31m:\u001b[0m cannot assign to function call here. Maybe you meant '==' instead of '='?\n"
          ]
        }
      ]
    },
    {
      "cell_type": "markdown",
      "source": [
        "QUES6-->Write a function to demonstrate the behavior of mutable and immutable arguments."
      ],
      "metadata": {
        "id": "qE5Vbl6DX6bA"
      }
    },
    {
      "cell_type": "code",
      "source": [
        "# MUTABLE\n",
        "my_list=[1 , 2, 3 , 4 , \"Ajay\"]\n",
        "my_list[3]=\"binod\"\n",
        "my_list\n",
        "\n",
        "#immutabled== string not support mutability\n",
        "b=\"assignment\"\n",
        "b[0]=\"parrot\"\n",
        "b"
      ],
      "metadata": {
        "id": "SnZCE80AYBPD",
        "outputId": "81ea4dd5-0f9c-4828-9609-2e2c7d684e6c",
        "colab": {
          "base_uri": "https://localhost:8080/",
          "height": 193
        }
      },
      "execution_count": 23,
      "outputs": [
        {
          "output_type": "error",
          "ename": "TypeError",
          "evalue": "'str' object does not support item assignment",
          "traceback": [
            "\u001b[0;31m---------------------------------------------------------------------------\u001b[0m",
            "\u001b[0;31mTypeError\u001b[0m                                 Traceback (most recent call last)",
            "\u001b[0;32m/tmp/ipython-input-1252632042.py\u001b[0m in \u001b[0;36m<cell line: 0>\u001b[0;34m()\u001b[0m\n\u001b[1;32m      6\u001b[0m \u001b[0;31m#immutable\u001b[0m\u001b[0;34m\u001b[0m\u001b[0;34m\u001b[0m\u001b[0m\n\u001b[1;32m      7\u001b[0m \u001b[0mb\u001b[0m\u001b[0;34m=\u001b[0m\u001b[0;34m\"assignment\"\u001b[0m\u001b[0;34m\u001b[0m\u001b[0;34m\u001b[0m\u001b[0m\n\u001b[0;32m----> 8\u001b[0;31m \u001b[0mb\u001b[0m\u001b[0;34m[\u001b[0m\u001b[0;36m0\u001b[0m\u001b[0;34m]\u001b[0m\u001b[0;34m=\u001b[0m\u001b[0;34m\"parrot\"\u001b[0m\u001b[0;34m\u001b[0m\u001b[0;34m\u001b[0m\u001b[0m\n\u001b[0m\u001b[1;32m      9\u001b[0m \u001b[0mb\u001b[0m\u001b[0;34m\u001b[0m\u001b[0;34m\u001b[0m\u001b[0m\n",
            "\u001b[0;31mTypeError\u001b[0m: 'str' object does not support item assignment"
          ]
        }
      ]
    },
    {
      "cell_type": "markdown",
      "source": [
        "QUES7--> Write a program that performs basic arithmetic operations on two user-input numbers.\n",
        "\n"
      ],
      "metadata": {
        "id": "FXSSxsVuZYhL"
      }
    },
    {
      "cell_type": "code",
      "source": [
        "a=13\n",
        "b=6\n",
        "print(a+b)\n",
        "print(a-b)\n",
        "print(a*b)\n",
        "print(a/b)\n",
        "print(a%b)\n",
        "print(a//b)\n",
        "print(a**b)\n",
        "\n"
      ],
      "metadata": {
        "id": "uZaAxqoDZdH6",
        "outputId": "aa7b8428-f18a-495a-fe80-6f2c249a4c39",
        "colab": {
          "base_uri": "https://localhost:8080/"
        }
      },
      "execution_count": 27,
      "outputs": [
        {
          "output_type": "stream",
          "name": "stdout",
          "text": [
            "19\n",
            "7\n",
            "78\n",
            "2.1666666666666665\n",
            "1\n",
            "2\n",
            "4826809\n"
          ]
        }
      ]
    },
    {
      "cell_type": "markdown",
      "source": [
        "QUES8-->  Write a program to demonstrate the use of logical operators."
      ],
      "metadata": {
        "id": "ppw8vMNPZ70N"
      }
    },
    {
      "cell_type": "code",
      "source": [
        "x=5\n",
        "y=7\n",
        "if x>0 and y<5:\n",
        "  print(\"you are passed\")\n",
        "else:\n",
        "    print(\"you are failed\")\n",
        "\n",
        "    #here and is used if both the conditions are satisied that is x>0 and y<5\n",
        "\n",
        "x=5\n",
        "y=7\n",
        "if x>0 or y<5:\n",
        "  print(\"you are passed\")\n",
        "else:\n",
        "    print(\"you are failed\")\n",
        "\n",
        "    #   here and is used if any one the condition is satisied that is either x>0 or y<5"
      ],
      "metadata": {
        "id": "JN1OaXSSZ_4l",
        "outputId": "54324dde-443d-4ed1-fcc1-2b8328b70ef3",
        "colab": {
          "base_uri": "https://localhost:8080/"
        }
      },
      "execution_count": 31,
      "outputs": [
        {
          "output_type": "stream",
          "name": "stdout",
          "text": [
            "you are failed\n",
            "you are passed\n"
          ]
        }
      ]
    },
    {
      "cell_type": "markdown",
      "source": [
        "QUES9-->Write a Python program to convert user input from string to integer, float, and boolean types."
      ],
      "metadata": {
        "id": "GTfCkkXVcYKp"
      }
    },
    {
      "cell_type": "code",
      "source": [
        "random = \"87\"\n",
        "type(random)\n"
      ],
      "metadata": {
        "id": "AU2Zt2NFc036",
        "outputId": "c32f35a7-4c74-4b2e-f925-a0810b80934c",
        "colab": {
          "base_uri": "https://localhost:8080/"
        }
      },
      "execution_count": 35,
      "outputs": [
        {
          "output_type": "execute_result",
          "data": {
            "text/plain": [
              "str"
            ]
          },
          "metadata": {},
          "execution_count": 35
        }
      ]
    },
    {
      "cell_type": "code",
      "source": [
        "type(int(random))\n",
        "\n"
      ],
      "metadata": {
        "id": "OhKyKrEWdSje",
        "outputId": "9a9d854c-a834-4bb9-d096-ee9f906e3402",
        "colab": {
          "base_uri": "https://localhost:8080/"
        }
      },
      "execution_count": 36,
      "outputs": [
        {
          "output_type": "execute_result",
          "data": {
            "text/plain": [
              "int"
            ]
          },
          "metadata": {},
          "execution_count": 36
        }
      ]
    },
    {
      "cell_type": "code",
      "source": [
        "type(float(random))\n"
      ],
      "metadata": {
        "id": "c3qVT5m-dVj2",
        "outputId": "71cae3b6-1d45-40e1-deaf-18f9d977ee5a",
        "colab": {
          "base_uri": "https://localhost:8080/"
        }
      },
      "execution_count": 37,
      "outputs": [
        {
          "output_type": "execute_result",
          "data": {
            "text/plain": [
              "float"
            ]
          },
          "metadata": {},
          "execution_count": 37
        }
      ]
    },
    {
      "cell_type": "code",
      "source": [
        "type(bool(random))"
      ],
      "metadata": {
        "id": "WXfYppvKdZCJ",
        "outputId": "5e2ac2ba-bd71-4068-dfa3-e0cc3f8a1e31",
        "colab": {
          "base_uri": "https://localhost:8080/"
        }
      },
      "execution_count": 40,
      "outputs": [
        {
          "output_type": "execute_result",
          "data": {
            "text/plain": [
              "bool"
            ]
          },
          "metadata": {},
          "execution_count": 40
        }
      ]
    },
    {
      "cell_type": "markdown",
      "source": [
        "QUES10-->  Write code to demonstrate type casting with list elements."
      ],
      "metadata": {
        "id": "2_p7grYZdrMd"
      }
    },
    {
      "cell_type": "code",
      "source": [
        "my_list=[1,2,3,4,\"ajay\",True]\n",
        "type(my_list)"
      ],
      "metadata": {
        "id": "T2BeHQeXduva",
        "outputId": "4d7ad9ad-a65c-46ea-f246-c2c205452e5a",
        "colab": {
          "base_uri": "https://localhost:8080/"
        }
      },
      "execution_count": 42,
      "outputs": [
        {
          "output_type": "execute_result",
          "data": {
            "text/plain": [
              "list"
            ]
          },
          "metadata": {},
          "execution_count": 42
        }
      ]
    },
    {
      "cell_type": "markdown",
      "source": [
        "Ques11--> Write a program that checks if a number is positive, negative, or zero.\n",
        "\n"
      ],
      "metadata": {
        "id": "mempUczgeuPK"
      }
    },
    {
      "cell_type": "code",
      "source": [
        "number=int(input(\"enter a number here: \"))\n",
        "if number>0:\n",
        "  print(\"number is positive\")\n",
        "elif number<0:\n",
        "  print(\"number is negative\")\n",
        "else:\n",
        "  print(\"number is zero\")"
      ],
      "metadata": {
        "id": "zgavW_zIeyZc",
        "outputId": "f63ac453-5218-4bfe-e3c3-5fc725aa509c",
        "colab": {
          "base_uri": "https://localhost:8080/"
        }
      },
      "execution_count": 45,
      "outputs": [
        {
          "output_type": "stream",
          "name": "stdout",
          "text": [
            "enter a number here: 0\n",
            "number is zero\n"
          ]
        }
      ]
    },
    {
      "cell_type": "markdown",
      "source": [
        "Ques12--> Write a for loop to print numbers from 1 to 10"
      ],
      "metadata": {
        "id": "thr7GA7Vf6MQ"
      }
    },
    {
      "cell_type": "code",
      "source": [
        "n = 10\n",
        "i = 1\n",
        "while i <= n:\n",
        "  print(i , end=\" \")\n",
        "  i=i+1"
      ],
      "metadata": {
        "id": "GfGa09gtf9H4",
        "outputId": "5837e981-afdb-4a10-8930-6a7124646534",
        "colab": {
          "base_uri": "https://localhost:8080/"
        }
      },
      "execution_count": 2,
      "outputs": [
        {
          "output_type": "stream",
          "name": "stdout",
          "text": [
            "1 2 3 4 5 6 7 8 9 10 "
          ]
        }
      ]
    },
    {
      "cell_type": "markdown",
      "source": [
        "Ques13-->  Write a Python program to find the sum of all even numbers between 1 and 50.\n",
        "\n"
      ],
      "metadata": {
        "id": "p2NlRA55gJQP"
      }
    },
    {
      "cell_type": "code",
      "source": [
        "total_sum = 0\n",
        "for number in range (1, 51):\n",
        "  if number % 2 == 0:\n",
        "    total_sum += number\n",
        "    print(\"the sum of all even number is \", total_sum)\n",
        "\n",
        "\n"
      ],
      "metadata": {
        "id": "efoJgOHYgNmP",
        "outputId": "34e7c384-b914-4692-c56b-4b60d58e7627",
        "colab": {
          "base_uri": "https://localhost:8080/"
        }
      },
      "execution_count": 20,
      "outputs": [
        {
          "output_type": "stream",
          "name": "stdout",
          "text": [
            "the sum of all even number is  2\n",
            "the sum of all even number is  6\n",
            "the sum of all even number is  12\n",
            "the sum of all even number is  20\n",
            "the sum of all even number is  30\n",
            "the sum of all even number is  42\n",
            "the sum of all even number is  56\n",
            "the sum of all even number is  72\n",
            "the sum of all even number is  90\n",
            "the sum of all even number is  110\n",
            "the sum of all even number is  132\n",
            "the sum of all even number is  156\n",
            "the sum of all even number is  182\n",
            "the sum of all even number is  210\n",
            "the sum of all even number is  240\n",
            "the sum of all even number is  272\n",
            "the sum of all even number is  306\n",
            "the sum of all even number is  342\n",
            "the sum of all even number is  380\n",
            "the sum of all even number is  420\n",
            "the sum of all even number is  462\n",
            "the sum of all even number is  506\n",
            "the sum of all even number is  552\n",
            "the sum of all even number is  600\n",
            "the sum of all even number is  650\n"
          ]
        }
      ]
    },
    {
      "cell_type": "markdown",
      "source": [
        "QUES14--> Write a program to reverse a string using a while loop\n"
      ],
      "metadata": {
        "id": "Q6_Fv0I-kRhV"
      }
    },
    {
      "cell_type": "code",
      "source": [],
      "metadata": {
        "id": "OdKn90h8kWzm"
      },
      "execution_count": null,
      "outputs": []
    },
    {
      "cell_type": "markdown",
      "source": [
        "QUES15--> Write a Python program to calculate the factorial of a number provided by the user using a while loop"
      ],
      "metadata": {
        "id": "QQNjyDEGk8F-"
      }
    },
    {
      "cell_type": "code",
      "source": [
        "n=int(input(\"enter a number here: \"))\n",
        "i=1\n",
        "while n>0:\n",
        "  i=i*n\n",
        "  n=n-1\n",
        "print(i)\n"
      ],
      "metadata": {
        "id": "NGWPAtXtlA3n",
        "outputId": "b9668d0d-c0fd-416a-db8a-f7cb9844229b",
        "colab": {
          "base_uri": "https://localhost:8080/"
        }
      },
      "execution_count": 23,
      "outputs": [
        {
          "output_type": "stream",
          "name": "stdout",
          "text": [
            "enter a number here: 3\n",
            "6\n"
          ]
        }
      ]
    }
  ],
  "metadata": {
    "colab": {
      "name": "Welcome to Colab",
      "toc_visible": true,
      "provenance": []
    },
    "kernelspec": {
      "display_name": "Python 3",
      "name": "python3"
    }
  },
  "nbformat": 4,
  "nbformat_minor": 0
}